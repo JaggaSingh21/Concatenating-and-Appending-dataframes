{
 "cells": [
  {
   "cell_type": "markdown",
   "metadata": {},
   "source": [
    "# Jagwinder Singh"
   ]
  },
  {
   "cell_type": "markdown",
   "metadata": {},
   "source": [
    "## Complete the notebook: JNM05 Workbook\n",
    "(ver. 10/11/2020)"
   ]
  },
  {
   "cell_type": "markdown",
   "metadata": {},
   "source": [
    "## Concatenating and Appending dataframes"
   ]
  },
  {
   "cell_type": "markdown",
   "metadata": {},
   "source": [
    "1) Enter imports:"
   ]
  },
  {
   "cell_type": "code",
   "execution_count": 1,
   "metadata": {},
   "outputs": [],
   "source": [
    "import pandas as pd"
   ]
  },
  {
   "cell_type": "markdown",
   "metadata": {},
   "source": [
    "2) Load the data into the dataframes:"
   ]
  },
  {
   "cell_type": "code",
   "execution_count": 2,
   "metadata": {},
   "outputs": [],
   "source": [
    "df_1 = pd.DataFrame({'HPI':[80,85,88,85],\n",
    "                    'Interest_rate':[2, 3, 2, 2],\n",
    "                    'US_GDP_Thousands':[50, 55, 65, 55]},\n",
    "                   index = [2001, 2002, 2003, 2004])\n",
    "\n",
    "df_2 = pd.DataFrame({'HPI':[80,85,88,85],\n",
    "                    'Interest_rate':[2, 3, 2, 2],\n",
    "                    'US_GDP_Thousands':[50, 55, 65, 55]},\n",
    "                   index = [2005, 2006, 2007, 2008])\n",
    "\n",
    "df_3 = pd.DataFrame({'HPI':[80,85,88,85],\n",
    "                    'Interest_rate':[2, 3, 2, 2],\n",
    "                    'Low_tier_HPI':[50, 52, 50, 53]},\n",
    "                   index = [2001, 2002, 2003, 2004])"
   ]
  },
  {
   "cell_type": "markdown",
   "metadata": {},
   "source": [
    "## Concatenation"
   ]
  },
  {
   "cell_type": "markdown",
   "metadata": {},
   "source": [
    "3) Write the code that concatenates DataFrame 1 and 2 then prints out the new dataframe:"
   ]
  },
  {
   "cell_type": "code",
   "execution_count": 4,
   "metadata": {},
   "outputs": [
    {
     "name": "stdout",
     "output_type": "stream",
     "text": [
      "      HPI  Interest_rate  US_GDP_Thousands\n",
      "2001   80              2                50\n",
      "2002   85              3                55\n",
      "2003   88              2                65\n",
      "2004   85              2                55\n",
      "2005   80              2                50\n",
      "2006   85              3                55\n",
      "2007   88              2                65\n",
      "2008   85              2                55\n"
     ]
    }
   ],
   "source": [
    "concat = pd.concat([df_1,df_2])\n",
    "print(concat)"
   ]
  },
  {
   "cell_type": "markdown",
   "metadata": {},
   "source": [
    "4) Write the code that concatenates all three frames and prints the new dataframe"
   ]
  },
  {
   "cell_type": "code",
   "execution_count": 6,
   "metadata": {},
   "outputs": [
    {
     "name": "stdout",
     "output_type": "stream",
     "text": [
      "      HPI  Interest_rate  Low_tier_HPI  US_GDP_Thousands\n",
      "2001   80              2           NaN              50.0\n",
      "2002   85              3           NaN              55.0\n",
      "2003   88              2           NaN              65.0\n",
      "2004   85              2           NaN              55.0\n",
      "2005   80              2           NaN              50.0\n",
      "2006   85              3           NaN              55.0\n",
      "2007   88              2           NaN              65.0\n",
      "2008   85              2           NaN              55.0\n",
      "2001   80              2          50.0               NaN\n",
      "2002   85              3          52.0               NaN\n",
      "2003   88              2          50.0               NaN\n",
      "2004   85              2          53.0               NaN\n"
     ]
    }
   ],
   "source": [
    "concat = pd.concat([df_1,df_2,df_3],sort=True)\n",
    "print(concat)"
   ]
  },
  {
   "cell_type": "markdown",
   "metadata": {},
   "source": [
    "## Appending"
   ]
  },
  {
   "cell_type": "markdown",
   "metadata": {},
   "source": [
    "5) Write the code that appends DataFrame 1 and 2 into a new DataFrame (df_4) then display the new DataFrame (df_4)"
   ]
  },
  {
   "cell_type": "code",
   "execution_count": 7,
   "metadata": {},
   "outputs": [
    {
     "name": "stdout",
     "output_type": "stream",
     "text": [
      "      HPI  Interest_rate  US_GDP_Thousands\n",
      "2001   80              2                50\n",
      "2002   85              3                55\n",
      "2003   88              2                65\n",
      "2004   85              2                55\n",
      "2005   80              2                50\n",
      "2006   85              3                55\n",
      "2007   88              2                65\n",
      "2008   85              2                55\n"
     ]
    }
   ],
   "source": [
    "df_4 = df_1.append(df_2)\n",
    "print(df_4)"
   ]
  },
  {
   "cell_type": "markdown",
   "metadata": {},
   "source": [
    "6) Write the code that appends DataFrame 1 and 3 into a new DataFrame then Display the new DataFrame"
   ]
  },
  {
   "cell_type": "code",
   "execution_count": 8,
   "metadata": {},
   "outputs": [
    {
     "name": "stdout",
     "output_type": "stream",
     "text": [
      "      HPI  Interest_rate  Low_tier_HPI  US_GDP_Thousands\n",
      "2001   80              2           NaN              50.0\n",
      "2002   85              3           NaN              55.0\n",
      "2003   88              2           NaN              65.0\n",
      "2004   85              2           NaN              55.0\n",
      "2001   80              2          50.0               NaN\n",
      "2002   85              3          52.0               NaN\n",
      "2003   88              2          50.0               NaN\n",
      "2004   85              2          53.0               NaN\n"
     ]
    }
   ],
   "source": [
    "df_4 = df_1.append(df_3,sort=True)\n",
    "print(df_4)"
   ]
  },
  {
   "cell_type": "markdown",
   "metadata": {},
   "source": [
    "7) Write the code that creates a new series of 88, 2, 55"
   ]
  },
  {
   "cell_type": "code",
   "execution_count": 9,
   "metadata": {},
   "outputs": [],
   "source": [
    "s = pd.Series([88,2,55])"
   ]
  },
  {
   "cell_type": "markdown",
   "metadata": {},
   "source": [
    "8) Append the newly created series with DataFrame 1 and place it into a new DataFrames. Display the new DataFrame."
   ]
  },
  {
   "cell_type": "code",
   "execution_count": 10,
   "metadata": {},
   "outputs": [
    {
     "name": "stdout",
     "output_type": "stream",
     "text": [
      "    HPI  Interest_rate  US_GDP_Thousands     0    1     2\n",
      "0  80.0            2.0              50.0   NaN  NaN   NaN\n",
      "1  85.0            3.0              55.0   NaN  NaN   NaN\n",
      "2  88.0            2.0              65.0   NaN  NaN   NaN\n",
      "3  85.0            2.0              55.0   NaN  NaN   NaN\n",
      "4   NaN            NaN               NaN  88.0  2.0  55.0\n"
     ]
    }
   ],
   "source": [
    "df_4 = df_1.append(s, ignore_index = True)\n",
    "print(df_4)"
   ]
  },
  {
   "cell_type": "markdown",
   "metadata": {},
   "source": [
    "9) Append the newly created series with DataFrame 1 while matching the series data to the correct data column and place it into a new DataFrames. Display the new DataFrame."
   ]
  },
  {
   "cell_type": "code",
   "execution_count": 11,
   "metadata": {},
   "outputs": [
    {
     "name": "stdout",
     "output_type": "stream",
     "text": [
      "   HPI  Interest_rate  US_GDP_Thousands\n",
      "0   80              2                50\n",
      "1   85              3                55\n",
      "2   88              2                65\n",
      "3   85              2                55\n",
      "4   88              2                55\n"
     ]
    }
   ],
   "source": [
    "s = pd.Series([88,2,55], index=['HPI','Interest_rate','US_GDP_Thousands'])\n",
    "df_4 = df_1.append(s, ignore_index=True)\n",
    "print(df_4)"
   ]
  }
 ],
 "metadata": {
  "kernelspec": {
   "display_name": "Python 3",
   "language": "python",
   "name": "python3"
  },
  "language_info": {
   "codemirror_mode": {
    "name": "ipython",
    "version": 3
   },
   "file_extension": ".py",
   "mimetype": "text/x-python",
   "name": "python",
   "nbconvert_exporter": "python",
   "pygments_lexer": "ipython3",
   "version": "3.8.5"
  }
 },
 "nbformat": 4,
 "nbformat_minor": 2
}
